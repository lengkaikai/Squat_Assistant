{
 "cells": [
  {
   "cell_type": "code",
   "execution_count": 1,
   "metadata": {},
   "outputs": [],
   "source": [
    "# Load Dataset\n",
    "import pandas as pd\n",
    "import numpy as np"
   ]
  },
  {
   "cell_type": "code",
   "execution_count": 2,
   "metadata": {},
   "outputs": [],
   "source": [
    "apex_df = pd.read_csv('data/apex.csv')"
   ]
  },
  {
   "cell_type": "code",
   "execution_count": 3,
   "metadata": {},
   "outputs": [],
   "source": [
    "#decision trees good at overfitting small data points\n",
    "# ONE SHOT LEARNING- learn a differentiator rather than a predictor.  \n",
    "# maximize the difference between good score and bad score\n",
    "# transfer learning\n",
    "# combination of both\n",
    "# metrics, true positive, true negative, sensitivy, specificity, recall"
   ]
  },
  {
   "cell_type": "markdown",
   "metadata": {},
   "source": [
    "### Decision Tree Classifier"
   ]
  },
  {
   "cell_type": "code",
   "execution_count": 4,
   "metadata": {},
   "outputs": [
    {
     "name": "stdout",
     "output_type": "stream",
     "text": [
      "Test Accuracy:  1.0\n"
     ]
    }
   ],
   "source": [
    "from sklearn.model_selection import train_test_split\n",
    "from sklearn.tree import DecisionTreeClassifier\n",
    "y = apex_df['good']\n",
    "X = apex_df.drop(['good'], axis=1)\n",
    "X_train, X_test, y_train, y_test = train_test_split(X, y, test_size=0.15, random_state=42)\n",
    "clf = DecisionTreeClassifier()\n",
    "clf = clf.fit(X_train,y_train)\n",
    "y_pred = clf.predict(X_test)\n",
    "score = clf.score(X_test, y_test)\n",
    "print('Test Accuracy: ', score)"
   ]
  },
  {
   "cell_type": "markdown",
   "metadata": {},
   "source": [
    "### Random Forest Classifer"
   ]
  },
  {
   "cell_type": "code",
   "execution_count": 5,
   "metadata": {},
   "outputs": [
    {
     "name": "stdout",
     "output_type": "stream",
     "text": [
      "Test Accuracy:  0.75\n"
     ]
    },
    {
     "name": "stderr",
     "output_type": "stream",
     "text": [
      "/opt/anaconda3/lib/python3.7/site-packages/sklearn/ensemble/forest.py:245: FutureWarning: The default value of n_estimators will change from 10 in version 0.20 to 100 in 0.22.\n",
      "  \"10 in version 0.20 to 100 in 0.22.\", FutureWarning)\n"
     ]
    }
   ],
   "source": [
    "from sklearn.ensemble import RandomForestClassifier\n",
    "y = apex_df['good']\n",
    "X = apex_df.drop(['good'], axis=1)\n",
    "X_train, X_test, y_train, y_test = train_test_split(X, y, test_size=0.15, random_state=42)\n",
    "clf_rf = RandomForestClassifier()\n",
    "clf_rf = clf_rf.fit(X_train,y_train)\n",
    "y_pred_rf = clf_rf.predict(X_test)\n",
    "score_rf = clf_rf.score(X_test, y_test)\n",
    "print('Test Accuracy: ', score_rf)"
   ]
  },
  {
   "cell_type": "markdown",
   "metadata": {},
   "source": [
    "### Logistic Regression"
   ]
  },
  {
   "cell_type": "code",
   "execution_count": 6,
   "metadata": {},
   "outputs": [
    {
     "name": "stdout",
     "output_type": "stream",
     "text": [
      "Test Accuracy:  0.75\n"
     ]
    },
    {
     "name": "stderr",
     "output_type": "stream",
     "text": [
      "/opt/anaconda3/lib/python3.7/site-packages/sklearn/linear_model/logistic.py:432: FutureWarning: Default solver will be changed to 'lbfgs' in 0.22. Specify a solver to silence this warning.\n",
      "  FutureWarning)\n"
     ]
    }
   ],
   "source": [
    "from sklearn.model_selection import train_test_split\n",
    "from sklearn.linear_model import LogisticRegression\n",
    "y = apex_df['good']\n",
    "X = apex_df.drop(['good'], axis=1)\n",
    "X_train, X_test, y_train, y_test = train_test_split(X, y, test_size=0.15, random_state=42)\n",
    "clf_log = LogisticRegression()\n",
    "clf_log = clf_log.fit(X_train,y_train)\n",
    "y_pred_log = clf_log.predict(X_test)\n",
    "score_log = clf_log.score(X_test, y_test)\n",
    "print('Test Accuracy: ', score_log)"
   ]
  },
  {
   "cell_type": "markdown",
   "metadata": {},
   "source": [
    "### One Shot Learning"
   ]
  },
  {
   "cell_type": "code",
   "execution_count": 7,
   "metadata": {},
   "outputs": [
    {
     "name": "stderr",
     "output_type": "stream",
     "text": [
      "Using TensorFlow backend.\n"
     ]
    }
   ],
   "source": [
    "#run this in terminal to install pip:  curl https://bootstrap.pypa.io/get-pip.py -o get-pip.py\n",
    "#run this in terminal to install tensorflow: pip install --upgrade tensorflow\n",
    "#run this in terminal to install keras: pip install keras\n",
    "import tensorflow as tf\n",
    "import keras\n",
    "from tensorflow.keras.models import Sequential\n",
    "from keras.layers import Dropout\n",
    "from tensorflow.keras.layers import Dense"
   ]
  },
  {
   "cell_type": "code",
   "execution_count": 8,
   "metadata": {},
   "outputs": [
    {
     "name": "stdout",
     "output_type": "stream",
     "text": [
      "Train on 15 samples\n",
      "Epoch 1/10\n",
      "15/15 [==============================] - 1s 40ms/sample - loss: 2.0332 - accuracy: 0.8667\n",
      "Epoch 2/10\n",
      "15/15 [==============================] - 0s 287us/sample - loss: 2.0332 - accuracy: 0.8667\n",
      "Epoch 3/10\n",
      "15/15 [==============================] - 0s 477us/sample - loss: 2.0332 - accuracy: 0.8667\n",
      "Epoch 4/10\n",
      "15/15 [==============================] - 0s 298us/sample - loss: 2.0332 - accuracy: 0.8667\n",
      "Epoch 5/10\n",
      "15/15 [==============================] - 0s 596us/sample - loss: 2.0332 - accuracy: 0.8667\n",
      "Epoch 6/10\n",
      "15/15 [==============================] - 0s 365us/sample - loss: 2.0332 - accuracy: 0.8667\n",
      "Epoch 7/10\n",
      "15/15 [==============================] - 0s 355us/sample - loss: 2.0332 - accuracy: 0.8667\n",
      "Epoch 8/10\n",
      "15/15 [==============================] - 0s 317us/sample - loss: 2.0332 - accuracy: 0.8667\n",
      "Epoch 9/10\n",
      "15/15 [==============================] - 0s 341us/sample - loss: 2.0332 - accuracy: 0.8667\n",
      "Epoch 10/10\n",
      "15/15 [==============================] - 0s 235us/sample - loss: 2.0332 - accuracy: 0.8667\n",
      "Test Accuracy:  0.8181818\n"
     ]
    }
   ],
   "source": [
    "x = apex_df.drop(['good'], axis =1)\n",
    "y = apex_df['good']\n",
    "#pd.get_dummies(y).values\n",
    "X_train, X_test, y_train, y_test = train_test_split(x, y, test_size=0.4, random_state=42,shuffle=True)\n",
    "\n",
    "# Core data structure in Keras is a model\n",
    "# The model is an object in which we organize layers\n",
    "\n",
    "model_k = Sequential() # instantiate empty Sequential model\n",
    "\n",
    "\n",
    "# model contruction (architecture build computational graph)\n",
    "\n",
    "\n",
    "model_k.add( Dense(units=64, input_dim = 19, activation='relu'))\n",
    "\n",
    "model_k.add( Dense(units=1, activation='softmax') )\n",
    "\n",
    "# For a binary classification problem \n",
    "def mean_pred(y_true, y_pred):\n",
    "    return keras.backend.mean(y_pred)\n",
    "\n",
    "#simple_sgd = optimizers.SGD(lr=0.01)  \n",
    "    \n",
    "model_k.compile(optimizer='rmsprop',\n",
    "              loss='binary_crossentropy',\n",
    "              metrics=['accuracy'])\n",
    "\n",
    "model_k.fit(X_train, y_train, epochs =10, batch_size= 32)\n",
    "\n",
    "# Evaluate the model Accuracy on test set\n",
    "score_keras = model_k.evaluate(X_test, y_test, verbose = False)[1]\n",
    "\n",
    "print('Test Accuracy: ', score_keras)"
   ]
  },
  {
   "cell_type": "code",
   "execution_count": 9,
   "metadata": {},
   "outputs": [
    {
     "name": "stdout",
     "output_type": "stream",
     "text": [
      "(15, 19)\n",
      "(15,)\n",
      "(11, 19)\n"
     ]
    }
   ],
   "source": [
    "print(X_train.shape)\n",
    "print(y_train.shape)\n",
    "print(X_test.shape)"
   ]
  },
  {
   "cell_type": "code",
   "execution_count": null,
   "metadata": {},
   "outputs": [],
   "source": []
  }
 ],
 "metadata": {
  "kernelspec": {
   "display_name": "Python 3",
   "language": "python",
   "name": "python3"
  },
  "language_info": {
   "codemirror_mode": {
    "name": "ipython",
    "version": 3
   },
   "file_extension": ".py",
   "mimetype": "text/x-python",
   "name": "python",
   "nbconvert_exporter": "python",
   "pygments_lexer": "ipython3",
   "version": "3.7.4"
  }
 },
 "nbformat": 4,
 "nbformat_minor": 2
}
