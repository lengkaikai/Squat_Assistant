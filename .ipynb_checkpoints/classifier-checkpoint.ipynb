{
 "cells": [
  {
   "cell_type": "code",
   "execution_count": 1,
   "metadata": {},
   "outputs": [],
   "source": [
    "# Load Dataset\n",
    "import pandas as pd\n",
    "import numpy as np\n",
    "\n",
    "# Hide warnings\n",
    "import warnings\n",
    "warnings.filterwarnings('ignore')"
   ]
  },
  {
   "cell_type": "code",
   "execution_count": 2,
   "metadata": {},
   "outputs": [],
   "source": [
    "apex_df = pd.read_csv('data/apex.csv')"
   ]
  },
  {
   "cell_type": "code",
   "execution_count": 3,
   "metadata": {},
   "outputs": [],
   "source": [
    "#decision trees good at overfitting small data points\n",
    "# ONE SHOT LEARNING- learn a differentiator rather than a predictor.  \n",
    "# maximize the difference between good score and bad score\n",
    "# transfer learning\n",
    "# combination of both\n",
    "# metrics, true positive, true negative, sensitivy, specificity, recall"
   ]
  },
  {
   "cell_type": "markdown",
   "metadata": {},
   "source": [
    "### Feature Engineering"
   ]
  },
  {
   "cell_type": "code",
   "execution_count": 4,
   "metadata": {},
   "outputs": [
    {
     "data": {
      "text/html": [
       "<div>\n",
       "<style scoped>\n",
       "    .dataframe tbody tr th:only-of-type {\n",
       "        vertical-align: middle;\n",
       "    }\n",
       "\n",
       "    .dataframe tbody tr th {\n",
       "        vertical-align: top;\n",
       "    }\n",
       "\n",
       "    .dataframe thead th {\n",
       "        text-align: right;\n",
       "    }\n",
       "</style>\n",
       "<table border=\"1\" class=\"dataframe\">\n",
       "  <thead>\n",
       "    <tr style=\"text-align: right;\">\n",
       "      <th></th>\n",
       "      <th>entry</th>\n",
       "      <th>nose_x</th>\n",
       "      <th>nose_y</th>\n",
       "      <th>leftShoulder_x</th>\n",
       "      <th>leftShoulder_y</th>\n",
       "      <th>rightShoulder_x</th>\n",
       "      <th>rightShoulder_y</th>\n",
       "      <th>leftHip_x</th>\n",
       "      <th>leftHip_y</th>\n",
       "      <th>rightHip_x</th>\n",
       "      <th>...</th>\n",
       "      <th>leftAnkle_y</th>\n",
       "      <th>rightAnkle_x</th>\n",
       "      <th>rightAnkle_y</th>\n",
       "      <th>good</th>\n",
       "      <th>xcoord_lhip_ank</th>\n",
       "      <th>ycoord_lhip_knee</th>\n",
       "      <th>left_hip_angle</th>\n",
       "      <th>xcoord_rhip_ank</th>\n",
       "      <th>ycoord_rhip_knee</th>\n",
       "      <th>right_hip_angle</th>\n",
       "    </tr>\n",
       "  </thead>\n",
       "  <tbody>\n",
       "    <tr>\n",
       "      <td>0</td>\n",
       "      <td>0</td>\n",
       "      <td>0.117421</td>\n",
       "      <td>0.308928</td>\n",
       "      <td>0.143789</td>\n",
       "      <td>0.286555</td>\n",
       "      <td>0.142810</td>\n",
       "      <td>0.281268</td>\n",
       "      <td>0.198155</td>\n",
       "      <td>0.230542</td>\n",
       "      <td>0.195815</td>\n",
       "      <td>...</td>\n",
       "      <td>0.254270</td>\n",
       "      <td>0.257482</td>\n",
       "      <td>0.266315</td>\n",
       "      <td>1</td>\n",
       "      <td>-0.045358</td>\n",
       "      <td>-0.044023</td>\n",
       "      <td>0.770463</td>\n",
       "      <td>-0.061666</td>\n",
       "      <td>-0.050550</td>\n",
       "      <td>0.686657</td>\n",
       "    </tr>\n",
       "    <tr>\n",
       "      <td>1</td>\n",
       "      <td>1</td>\n",
       "      <td>0.136397</td>\n",
       "      <td>0.262684</td>\n",
       "      <td>0.159529</td>\n",
       "      <td>0.264952</td>\n",
       "      <td>0.163765</td>\n",
       "      <td>0.240159</td>\n",
       "      <td>0.220993</td>\n",
       "      <td>0.251286</td>\n",
       "      <td>0.228438</td>\n",
       "      <td>...</td>\n",
       "      <td>0.249946</td>\n",
       "      <td>0.258989</td>\n",
       "      <td>0.243413</td>\n",
       "      <td>1</td>\n",
       "      <td>-0.035139</td>\n",
       "      <td>-0.035057</td>\n",
       "      <td>0.784224</td>\n",
       "      <td>-0.030552</td>\n",
       "      <td>-0.048677</td>\n",
       "      <td>1.010298</td>\n",
       "    </tr>\n",
       "    <tr>\n",
       "      <td>2</td>\n",
       "      <td>2</td>\n",
       "      <td>0.045860</td>\n",
       "      <td>0.247471</td>\n",
       "      <td>0.079373</td>\n",
       "      <td>0.257763</td>\n",
       "      <td>0.080869</td>\n",
       "      <td>0.206781</td>\n",
       "      <td>0.186991</td>\n",
       "      <td>0.260724</td>\n",
       "      <td>0.187887</td>\n",
       "      <td>...</td>\n",
       "      <td>0.278864</td>\n",
       "      <td>0.353202</td>\n",
       "      <td>0.192719</td>\n",
       "      <td>1</td>\n",
       "      <td>-0.158460</td>\n",
       "      <td>-0.004642</td>\n",
       "      <td>0.029288</td>\n",
       "      <td>-0.165315</td>\n",
       "      <td>0.004289</td>\n",
       "      <td>-0.025942</td>\n",
       "    </tr>\n",
       "    <tr>\n",
       "      <td>3</td>\n",
       "      <td>3</td>\n",
       "      <td>0.253397</td>\n",
       "      <td>0.053853</td>\n",
       "      <td>0.275135</td>\n",
       "      <td>0.066398</td>\n",
       "      <td>0.279123</td>\n",
       "      <td>0.024032</td>\n",
       "      <td>0.341760</td>\n",
       "      <td>0.058580</td>\n",
       "      <td>0.327750</td>\n",
       "      <td>...</td>\n",
       "      <td>0.055766</td>\n",
       "      <td>0.385602</td>\n",
       "      <td>0.026955</td>\n",
       "      <td>1</td>\n",
       "      <td>-0.037507</td>\n",
       "      <td>-0.002227</td>\n",
       "      <td>0.059310</td>\n",
       "      <td>-0.057852</td>\n",
       "      <td>-0.001562</td>\n",
       "      <td>0.026992</td>\n",
       "    </tr>\n",
       "    <tr>\n",
       "      <td>4</td>\n",
       "      <td>4</td>\n",
       "      <td>0.098074</td>\n",
       "      <td>0.246265</td>\n",
       "      <td>0.121498</td>\n",
       "      <td>0.269973</td>\n",
       "      <td>0.122347</td>\n",
       "      <td>0.262603</td>\n",
       "      <td>0.183748</td>\n",
       "      <td>0.295707</td>\n",
       "      <td>0.182659</td>\n",
       "      <td>...</td>\n",
       "      <td>0.301003</td>\n",
       "      <td>0.236739</td>\n",
       "      <td>0.297524</td>\n",
       "      <td>1</td>\n",
       "      <td>-0.053714</td>\n",
       "      <td>0.028318</td>\n",
       "      <td>-0.485172</td>\n",
       "      <td>-0.054080</td>\n",
       "      <td>0.027760</td>\n",
       "      <td>-0.474242</td>\n",
       "    </tr>\n",
       "  </tbody>\n",
       "</table>\n",
       "<p>5 rows × 26 columns</p>\n",
       "</div>"
      ],
      "text/plain": [
       "   entry    nose_x    nose_y  leftShoulder_x  leftShoulder_y  rightShoulder_x  \\\n",
       "0      0  0.117421  0.308928        0.143789        0.286555         0.142810   \n",
       "1      1  0.136397  0.262684        0.159529        0.264952         0.163765   \n",
       "2      2  0.045860  0.247471        0.079373        0.257763         0.080869   \n",
       "3      3  0.253397  0.053853        0.275135        0.066398         0.279123   \n",
       "4      4  0.098074  0.246265        0.121498        0.269973         0.122347   \n",
       "\n",
       "   rightShoulder_y  leftHip_x  leftHip_y  rightHip_x  ...  leftAnkle_y  \\\n",
       "0         0.281268   0.198155   0.230542    0.195815  ...     0.254270   \n",
       "1         0.240159   0.220993   0.251286    0.228438  ...     0.249946   \n",
       "2         0.206781   0.186991   0.260724    0.187887  ...     0.278864   \n",
       "3         0.024032   0.341760   0.058580    0.327750  ...     0.055766   \n",
       "4         0.262603   0.183748   0.295707    0.182659  ...     0.301003   \n",
       "\n",
       "   rightAnkle_x  rightAnkle_y  good  xcoord_lhip_ank  ycoord_lhip_knee  \\\n",
       "0      0.257482      0.266315     1        -0.045358         -0.044023   \n",
       "1      0.258989      0.243413     1        -0.035139         -0.035057   \n",
       "2      0.353202      0.192719     1        -0.158460         -0.004642   \n",
       "3      0.385602      0.026955     1        -0.037507         -0.002227   \n",
       "4      0.236739      0.297524     1        -0.053714          0.028318   \n",
       "\n",
       "   left_hip_angle  xcoord_rhip_ank  ycoord_rhip_knee  right_hip_angle  \n",
       "0        0.770463        -0.061666         -0.050550         0.686657  \n",
       "1        0.784224        -0.030552         -0.048677         1.010298  \n",
       "2        0.029288        -0.165315          0.004289        -0.025942  \n",
       "3        0.059310        -0.057852         -0.001562         0.026992  \n",
       "4       -0.485172        -0.054080          0.027760        -0.474242  \n",
       "\n",
       "[5 rows x 26 columns]"
      ]
     },
     "execution_count": 4,
     "metadata": {},
     "output_type": "execute_result"
    }
   ],
   "source": [
    "'''\n",
    "Important features to look at for 'good' squats:\n",
    "1) angle at hip\n",
    "2) difference in x-coordinates of hip and ankle\n",
    "3) difference in y-coordinates of hip and knee\n",
    "'''\n",
    "\n",
    "features = apex_df.copy()\n",
    "features.head()\n",
    "features['xcoord_lhip_ank'] = features['leftHip_x'] - features['leftAnkle_x']\n",
    "features['ycoord_lhip_knee'] = features['leftHip_y'] - features['leftKnee_y']\n",
    "features['left_hip_angle'] = np.arctan(features['ycoord_lhip_knee']/features['xcoord_lhip_ank'])\n",
    "features['left_hip_angle']\n",
    "\n",
    "features['xcoord_rhip_ank'] = features['rightHip_x'] - features['rightAnkle_x']\n",
    "features['ycoord_rhip_knee'] = features['rightHip_y'] - features['rightKnee_y']\n",
    "features['right_hip_angle'] = np.arctan(features['ycoord_rhip_knee']/features['xcoord_rhip_ank'])\n",
    "features['right_hip_angle']\n",
    "\n",
    "features.head()"
   ]
  },
  {
   "cell_type": "markdown",
   "metadata": {},
   "source": [
    "### Decision Tree Classifier"
   ]
  },
  {
   "cell_type": "code",
   "execution_count": 63,
   "metadata": {},
   "outputs": [
    {
     "name": "stdout",
     "output_type": "stream",
     "text": [
      "Test Accuracy:  1.0\n"
     ]
    }
   ],
   "source": [
    "'''\n",
    "A decision tree is built on an entire dataset, using all the features/variables of interest.\n",
    "Decision Tree Classifiers tend to overfit the small data points.\n",
    "'''\n",
    "\n",
    "from sklearn.model_selection import train_test_split\n",
    "from sklearn.tree import DecisionTreeClassifier\n",
    "y = features['good']\n",
    "X = features.drop(['good'], axis=1)\n",
    "X_train, X_test, y_train, y_test = train_test_split(X, y, test_size=0.15, random_state=42)\n",
    "clf = DecisionTreeClassifier()\n",
    "clf = clf.fit(X_train,y_train)\n",
    "y_pred = clf.predict(X_test)\n",
    "score = clf.score(X_test, y_test)\n",
    "print('Test Accuracy: ', score)"
   ]
  },
  {
   "cell_type": "markdown",
   "metadata": {},
   "source": [
    "### Random Forest Classifer"
   ]
  },
  {
   "cell_type": "code",
   "execution_count": 6,
   "metadata": {},
   "outputs": [
    {
     "name": "stdout",
     "output_type": "stream",
     "text": [
      "Test Accuracy:  1.0\n"
     ]
    }
   ],
   "source": [
    "'''\n",
    "Random Forest Classifiers choose randomly selects observations/rows\n",
    "and specific features/variables to build multiple decision trees from and then averages the results.\n",
    "'''\n",
    "from sklearn.ensemble import RandomForestClassifier\n",
    "y = features['good']\n",
    "X = features.drop(['good'], axis=1)\n",
    "X_train, X_test, y_train, y_test = train_test_split(X, y, test_size=0.15, random_state=42)\n",
    "clf_rf = RandomForestClassifier()\n",
    "clf_rf = clf_rf.fit(X_train,y_train)\n",
    "y_pred_rf = clf_rf.predict(X_test)\n",
    "score_rf = clf_rf.score(X_test, y_test)\n",
    "print('Test Accuracy: ', score_rf)"
   ]
  },
  {
   "cell_type": "markdown",
   "metadata": {},
   "source": [
    "### Logistic Regression"
   ]
  },
  {
   "cell_type": "code",
   "execution_count": 64,
   "metadata": {},
   "outputs": [
    {
     "name": "stdout",
     "output_type": "stream",
     "text": [
      "Test Accuracy:  0.75\n"
     ]
    }
   ],
   "source": [
    "'''\n",
    "Logistic Regression conducts an analysis of the data when it is binary. \n",
    "In this case, it predicts the probability of getting a 'good' squat (1).\n",
    "'''\n",
    "from sklearn.model_selection import train_test_split\n",
    "from sklearn.linear_model import LogisticRegression\n",
    "y = features['good']\n",
    "X = features.drop(['good'], axis=1)\n",
    "X_train, X_test, y_train, y_test = train_test_split(X, y, test_size=0.15, random_state=42)\n",
    "clf_log = LogisticRegression()\n",
    "clf_log = clf_log.fit(X_train,y_train)\n",
    "y_pred_log = clf_log.predict(X_test)\n",
    "score_log = clf_log.score(X_test, y_test)\n",
    "print('Test Accuracy: ', score_log)"
   ]
  },
  {
   "cell_type": "markdown",
   "metadata": {},
   "source": [
    "### Sequential Model"
   ]
  },
  {
   "cell_type": "code",
   "execution_count": 8,
   "metadata": {},
   "outputs": [
    {
     "name": "stderr",
     "output_type": "stream",
     "text": [
      "Using TensorFlow backend.\n"
     ]
    }
   ],
   "source": [
    "'''\n",
    "Installation of pip, tensorflow, keras:\n",
    "run this in terminal to install pip:  curl https://bootstrap.pypa.io/get-pip.py -o get-pip.py\n",
    "run this in terminal to install tensorflow: pip install --upgrade tensorflow\n",
    "run this in terminal to install keras: pip install keras\n",
    "'''\n",
    "import tensorflow as tf\n",
    "import keras\n",
    "from tensorflow.keras.models import Sequential\n",
    "from keras.layers import Dropout\n",
    "from tensorflow.keras.layers import Dense"
   ]
  },
  {
   "cell_type": "code",
   "execution_count": 11,
   "metadata": {},
   "outputs": [
    {
     "name": "stdout",
     "output_type": "stream",
     "text": [
      "Train on 20 samples\n",
      "Epoch 1/10\n",
      "20/20 [==============================] - 1s 28ms/sample - loss: 2.2874 - accuracy: 0.8500\n",
      "Epoch 2/10\n",
      "20/20 [==============================] - 0s 564us/sample - loss: 2.2874 - accuracy: 0.8500\n",
      "Epoch 3/10\n",
      "20/20 [==============================] - 0s 566us/sample - loss: 2.2874 - accuracy: 0.8500\n",
      "Epoch 4/10\n",
      "20/20 [==============================] - 0s 891us/sample - loss: 2.2874 - accuracy: 0.8500\n",
      "Epoch 5/10\n",
      "20/20 [==============================] - 0s 702us/sample - loss: 2.2874 - accuracy: 0.8500\n",
      "Epoch 6/10\n",
      "20/20 [==============================] - 0s 735us/sample - loss: 2.2874 - accuracy: 0.8500\n",
      "Epoch 7/10\n",
      "20/20 [==============================] - 0s 685us/sample - loss: 2.2874 - accuracy: 0.8500\n",
      "Epoch 8/10\n",
      "20/20 [==============================] - 0s 684us/sample - loss: 2.2874 - accuracy: 0.8500\n",
      "Epoch 9/10\n",
      "20/20 [==============================] - 0s 622us/sample - loss: 2.2874 - accuracy: 0.8500\n",
      "Epoch 10/10\n",
      "20/20 [==============================] - 0s 648us/sample - loss: 2.2874 - accuracy: 0.8500\n",
      "6/6 [==============================] - 0s 16ms/sample - loss: 2.5415 - accuracy: 0.8333\n",
      "Test accuracy: 0.8333333\n"
     ]
    }
   ],
   "source": [
    "y = features['good']\n",
    "x = features.drop(['good'], axis=1)\n",
    "#pd.get_dummies(y).values\n",
    "X_train, X_test, y_train, y_test = train_test_split(x, y, test_size=0.2, random_state=42,shuffle=True)\n",
    "\n",
    "# Core data structure in Keras is a model\n",
    "# The model is an object in which we organize layers\n",
    "\n",
    "model_k = Sequential() # instantiate empty Sequential model\n",
    "\n",
    "\n",
    "# model contruction (architecture build computational graph)\n",
    "\n",
    "\n",
    "model_k.add( Dense(units=64, input_dim = 25, activation='relu'))\n",
    "\n",
    "model_k.add(Dense(32, activation=tf.nn.relu))\n",
    "\n",
    "#model_k.add(Dense(16, activation=tf.nn.relu))\n",
    "\n",
    "model_k.add(Dense(4, activation='sigmoid'))\n",
    "\n",
    "model_k.add(Dense(units=1, activation='softmax') )\n",
    "\n",
    "\n",
    "# For a binary classification problem \n",
    "#def mean_pred(y_true, y_pred):\n",
    " #   return keras.backend.mean(y_pred) \n",
    "\n",
    "model_k.compile(optimizer= 'rmsprop',\n",
    "              loss='binary_crossentropy',\n",
    "             metrics=['accuracy'])\n",
    "\n",
    "history = model_k.fit(X_train, y_train, epochs =10, batch_size= 10)\n",
    "\n",
    "# Evaluate the model Accuracy on test set\n",
    "\n",
    "loss, accuracy = model_k.evaluate(X_test, y_test, batch_size=10)\n",
    "#print('Test loss:', test_scores[0])\n",
    "print('Test accuracy:', accuracy)\n"
   ]
  },
  {
   "cell_type": "markdown",
   "metadata": {},
   "source": [
    "### K Nearest Neighbors"
   ]
  },
  {
   "cell_type": "code",
   "execution_count": 12,
   "metadata": {},
   "outputs": [],
   "source": [
    "from sklearn.neighbors import KNeighborsClassifier\n",
    "from sklearn.model_selection import cross_val_score"
   ]
  },
  {
   "cell_type": "code",
   "execution_count": 14,
   "metadata": {},
   "outputs": [
    {
     "name": "stdout",
     "output_type": "stream",
     "text": [
      "Accuracy: 0.8333333333333334\n",
      "Cross Validation Mean:0.78\n"
     ]
    }
   ],
   "source": [
    "'''\n",
    "k nearest neighbors model works by taking a data point and looking at the ‘k’ closest labeled data points. \n",
    "The data point is then assigned the label of the majority of the ‘k’ closest points. In this case, we want\n",
    "to take the features and label it as good or bad (1 or 0).\n",
    "K-folds cross validation estimates the skill of the k nearest neighbors model. In this case, \n",
    "the data-set is split into k (5) groups and one group is used as the test set and the rest\n",
    "are used as the training set.\n",
    "'''\n",
    "\n",
    "feat = features.copy()\n",
    "#feat = feat.drop(['good'], axis=1)\n",
    "feat_new = feat[['xcoord_lhip_ank','ycoord_lhip_knee','left_hip_angle','xcoord_rhip_ank','ycoord_rhip_knee','right_hip_angle', 'good']]\n",
    "y = feat_new['good']\n",
    "x = feat_new.drop(['good'], axis=1)\n",
    "#Cluster the data\n",
    "\n",
    "X_train, X_test, y_train, y_test = train_test_split(x, y, test_size=0.2, random_state=1, stratify=y)\n",
    "\n",
    "# Create KNN classifier\n",
    "knn = KNeighborsClassifier(n_neighbors = 3)\n",
    "# Fit the classifier to the data\n",
    "knn.fit(X_train,y_train)\n",
    "knn.predict(X_test)[0:5]\n",
    "knn_score = knn.score(X_test, y_test)\n",
    "\n",
    "#create a new KNN model\n",
    "knn_cv = KNeighborsClassifier(n_neighbors=3)\n",
    "#train model with cv of 5 \n",
    "cv_scores = cross_val_score(knn_cv, x, y, cv=5)\n",
    "#print each cv score (accuracy) and average them\n",
    "print('Accuracy:', knn_score)\n",
    "print('Cross Validation Mean:{}'.format(np.mean(cv_scores)))\n"
   ]
  },
  {
   "cell_type": "code",
   "execution_count": null,
   "metadata": {},
   "outputs": [],
   "source": []
  },
  {
   "cell_type": "code",
   "execution_count": 15,
   "metadata": {},
   "outputs": [],
   "source": [
    "#feat.shape\n",
    "#kmeans = KMeans(n_clusters=2).fit(feat_new)\n",
    "#centroids = kmeans.cluster_centers_\n",
    "#print(centroids)\n",
    "\n",
    "\n",
    "#kmeans = KMeans(n_clusters=2, random_state=42).fit(feat_std)\n",
    "#labels = kmeans.labels_\n",
    "\n",
    "#Glue back to originaal data\n",
    "#feat['clusters'] = labels\n",
    "\n",
    "#Add the column into our list\n",
    "#feat(['clusters'])\n",
    "\n",
    "#Lets analyze the clusters\n",
    "#feat['good'].groupby(['clusters']).mean()"
   ]
  }
 ],
 "metadata": {
  "kernelspec": {
   "display_name": "Python 3",
   "language": "python",
   "name": "python3"
  },
  "language_info": {
   "codemirror_mode": {
    "name": "ipython",
    "version": 3
   },
   "file_extension": ".py",
   "mimetype": "text/x-python",
   "name": "python",
   "nbconvert_exporter": "python",
   "pygments_lexer": "ipython3",
   "version": "3.7.4"
  }
 },
 "nbformat": 4,
 "nbformat_minor": 2
}
