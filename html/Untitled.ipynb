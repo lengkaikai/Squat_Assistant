{
 "cells": [
  {
   "cell_type": "code",
   "execution_count": null,
   "metadata": {},
   "outputs": [
    {
     "name": "stderr",
     "output_type": "stream",
     "text": [
      " * Running on http://localhost:9000/ (Press CTRL+C to quit)\n",
      "127.0.0.1 - - [28/Apr/2020 03:58:12] \"\u001b[37mGET /bridge HTTP/1.1\u001b[0m\" 200 -\n",
      "127.0.0.1 - - [28/Apr/2020 03:58:38] \"\u001b[37mGET /bridge HTTP/1.1\u001b[0m\" 200 -\n",
      "127.0.0.1 - - [28/Apr/2020 03:58:43] \"\u001b[37mGET /bridge HTTP/1.1\u001b[0m\" 200 -\n",
      "127.0.0.1 - - [28/Apr/2020 03:59:44] \"\u001b[33mGET / HTTP/1.1\u001b[0m\" 404 -\n",
      "127.0.0.1 - - [28/Apr/2020 03:59:44] \"\u001b[33mGET /favicon.ico HTTP/1.1\u001b[0m\" 404 -\n",
      "127.0.0.1 - - [28/Apr/2020 03:59:55] \"\u001b[33mGET /pyside HTTP/1.1\u001b[0m\" 404 -\n",
      "127.0.0.1 - - [28/Apr/2020 04:00:03] \"\u001b[37mGET /bridge HTTP/1.1\u001b[0m\" 200 -\n",
      "127.0.0.1 - - [28/Apr/2020 04:00:14] \"\u001b[37mGET /bridge HTTP/1.1\u001b[0m\" 200 -\n",
      "127.0.0.1 - - [28/Apr/2020 04:00:15] \"\u001b[37mGET /bridge HTTP/1.1\u001b[0m\" 200 -\n",
      "127.0.0.1 - - [28/Apr/2020 04:02:32] \"\u001b[37mGET /bridge HTTP/1.1\u001b[0m\" 200 -\n",
      "127.0.0.1 - - [28/Apr/2020 04:03:05] \"\u001b[37mGET /bridge HTTP/1.1\u001b[0m\" 200 -\n",
      "127.0.0.1 - - [28/Apr/2020 04:03:06] \"\u001b[37mGET /bridge HTTP/1.1\u001b[0m\" 200 -\n",
      "127.0.0.1 - - [28/Apr/2020 04:08:27] \"\u001b[37mGET /bridge HTTP/1.1\u001b[0m\" 200 -\n"
     ]
    }
   ],
   "source": [
    "%run app.py"
   ]
  },
  {
   "cell_type": "code",
   "execution_count": null,
   "metadata": {},
   "outputs": [],
   "source": []
  }
 ],
 "metadata": {
  "kernelspec": {
   "display_name": "Python 3",
   "language": "python",
   "name": "python3"
  },
  "language_info": {
   "codemirror_mode": {
    "name": "ipython",
    "version": 3
   },
   "file_extension": ".py",
   "mimetype": "text/x-python",
   "name": "python",
   "nbconvert_exporter": "python",
   "pygments_lexer": "ipython3",
   "version": "3.7.4"
  }
 },
 "nbformat": 4,
 "nbformat_minor": 2
}
